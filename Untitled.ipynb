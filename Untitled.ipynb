{
 "cells": [
  {
   "cell_type": "code",
   "execution_count": null,
   "metadata": {},
   "outputs": [
    {
     "ename": "",
     "evalue": "",
     "output_type": "error",
     "traceback": [
      "\u001b[1;31mRunning cells with 'Python 3.10.4 64-bit' requires ipykernel package.\n",
      "Run the following command to install 'ipykernel' into the Python environment. \n",
      "Command: 'C:/Python310/python.exe -m pip install ipykernel -U --user --force-reinstall'"
     ]
    }
   ],
   "source": [
    "from keytotext import pipeline"
   ]
  },
  {
   "cell_type": "code",
   "execution_count": 6,
   "metadata": {},
   "outputs": [],
   "source": [
    "nlp = pipeline(\"mrm8488/t5-base-finetuned-common_gen\")"
   ]
  },
  {
   "cell_type": "code",
   "execution_count": 7,
   "metadata": {},
   "outputs": [],
   "source": [
    "keywordone = ['Law','firm','services']\n",
    "keywordtwo = ['individual','small business','guardianship']\n",
    "keywordthree = ['Law','excellence','legal']\n",
    "keywordfour = ['Law','solutions','problems']\n",
    "keywordfive = ['Law','case','plan']"
   ]
  },
  {
   "cell_type": "code",
   "execution_count": 13,
   "metadata": {},
   "outputs": [
    {
     "name": "stdout",
     "output_type": "stream",
     "text": [
      "law firm offers a wide range of services.\n",
      "a small business with a guardianship.\n",
      "law is the highest level of legal excellence.\n",
      "the law is one of the most common solutions to problems.\n",
      "a court of law has ruled that a man is not entitled to the same treatment as a woman.\n",
      "['law firm offers a wide range of services.', 'a small business with a guardianship.', 'law is the highest level of legal excellence.', 'the law is one of the most common solutions to problems.', 'a court of law has ruled that a man is not entitled to the same treatment as a woman.']\n"
     ]
    }
   ],
   "source": [
    "import pandas as pd\n",
    "\n",
    "#nlp(keywordone)\n",
    "sortedlist=[]\n",
    "sentenceone=nlp(keywordone)\n",
    "print(sentenceone)\n",
    "sortedlist.append(sentenceone)\n",
    "sentencetwo=nlp(keywordtwo)\n",
    "print(sentencetwo)\n",
    "sortedlist.append(sentencetwo)\n",
    "sentencethree=nlp(keywordthree)\n",
    "print(sentencethree)\n",
    "sortedlist.append(sentencethree)\n",
    "sentencefour=nlp(keywordfour)\n",
    "print(sentencefour)\n",
    "sortedlist.append(sentencefour)\n",
    "sentencefive=nlp(keywordfive)\n",
    "print(sentencefive)\n",
    "sortedlist.append(sentencefive)\n",
    "\n",
    "print(sortedlist)\n",
    "df = pd.DataFrame(sortedlist)\n",
    "df.to_csv('law.csv')\n",
    "#nlp(keywordtwo)"
   ]
  },
  {
   "cell_type": "code",
   "execution_count": 7,
   "metadata": {},
   "outputs": [
    {
     "name": "stdout",
     "output_type": "stream",
     "text": [
      "[150, 137, 198, 135, 118, 190, 170, 180, 102, 183]\n",
      "[34, 2, 38, 81, 83]\n"
     ]
    }
   ],
   "source": [
    "# Python program to create \n",
    "# a sorted list of unique random \n",
    "# numbers\n",
    "  \n",
    "  \n",
    "import random\n",
    "  \n",
    "  \n",
    "# Function to generate a sorted list  \n",
    "# of random numbers in a given\n",
    "# range with unique elements\n",
    "def createRandomSortedList(num, start = 1, end = 100):\n",
    "    arr = []\n",
    "    tmp = random.randint(start, end)\n",
    "      \n",
    "    for x in range(num):\n",
    "          \n",
    "        while tmp in arr:\n",
    "            tmp = random.randint(start, end)\n",
    "              \n",
    "        #arr.append(tmp)\n",
    "          \n",
    "    arr.sort()\n",
    "      \n",
    "    return arr\n",
    "   \n",
    "# Driver's code\n",
    "print(createRandomSortedList(10, 100, 200))\n",
    "print(createRandomSortedList(5))"
   ]
  },
  {
   "cell_type": "code",
   "execution_count": 2,
   "metadata": {},
   "outputs": [
    {
     "name": "stdout",
     "output_type": "stream",
     "text": [
      "['a', 'b', 'c']\n"
     ]
    }
   ],
   "source": [
    "mylist = [\"a\", \"b\", \"a\", \"c\", \"c\"]\n",
    "mylist = list(dict.fromkeys(mylist))\n",
    "print(mylist)"
   ]
  },
  {
   "cell_type": "code",
   "execution_count": null,
   "metadata": {},
   "outputs": [],
   "source": []
  },
  {
   "cell_type": "code",
   "execution_count": null,
   "metadata": {},
   "outputs": [],
   "source": []
  }
 ],
 "metadata": {
  "kernelspec": {
   "display_name": "Python 3",
   "language": "python",
   "name": "python3"
  },
  "language_info": {
   "codemirror_mode": {
    "name": "ipython",
    "version": 3
   },
   "file_extension": ".py",
   "mimetype": "text/x-python",
   "name": "python",
   "nbconvert_exporter": "python",
   "pygments_lexer": "ipython3",
   "version": "3.10.4"
  }
 },
 "nbformat": 4,
 "nbformat_minor": 4
}
